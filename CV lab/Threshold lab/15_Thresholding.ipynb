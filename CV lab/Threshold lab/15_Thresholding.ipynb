{
 "cells": [
  {
   "source": [
    "# Thresholding lab\n",
    "\n",
    "## Goal\n",
    "\n",
    "In this lab we need to explore and threshold using colorspaces we learned in the first section of this module.\n",
    "\n",
    "Use whatever colorspace or channel you need to achieve a result as clear as you can throughout the whole video.\n",
    "\n",
    "You will find the video in 'Files/Threshold/Lanes.mp4'\n",
    "\n",
    "## Criteria\n",
    "\n",
    "- Output must be a video of binary frames.\n",
    "- Lanes must be as clear as you can.\n",
    "\n",
    "## Example\n",
    "\n",
    "### Input\n",
    "\n",
    "![Image](Files/Threshold/labInput.png)\n",
    "\n",
    "\n",
    "### Output\n",
    "\n",
    "![Image](Files/Threshold/labout.png)\n",
    "\n",
    "## Grade\n",
    "\n",
    "10"
   ],
   "cell_type": "markdown",
   "metadata": {}
  },
  {
   "cell_type": "code",
   "execution_count": 73,
   "metadata": {},
   "outputs": [],
   "source": [
    "import cv2 as cv\n",
    "import numpy as np\n",
    "\n",
    "vidCap = cv.VideoCapture(\"Files/Threshold/Lanes.mp4\")\n",
    "frame_width = int(vidCap.get(3))\n",
    "frame_height = int(vidCap.get(4))\n",
    "\n",
    "vidOut = cv.VideoWriter(\"Output.mp4\", cv.VideoWriter_fourcc(*'XVID'), 10, (frame_width, frame_height))\n",
    "while(True):\n",
    "    boolRet, frame_bgr = vidCap.read()\n",
    "\n",
    "    if boolRet == True:\n",
    "        grayFrame = cv.cvtColor(frame_bgr, cv.COLOR_BGR2GRAY)\n",
    "        blackAndWhite_frame = cv.adaptiveThreshold(grayFrame, 255, cv.ADAPTIVE_THRESH_GAUSSIAN_C, cv.THRESH_BINARY_INV, 31, 8)\n",
    "        vidOut.write(blackAndWhite_frame)\n",
    "        cv.imshow(\"Image\", blackAndWhite_frame)\n",
    "        if (cv.waitKey(10) & 0xFF == ord('q')):\n",
    "            break\n",
    "    else:\n",
    "        break\n",
    "\n",
    "vidCap.release()\n",
    "vidOut.release()\n",
    "cv.destroyAllWindows()"
   ]
  },
  {
   "cell_type": "code",
   "execution_count": null,
   "metadata": {},
   "outputs": [],
   "source": []
  },
  {
   "cell_type": "code",
   "execution_count": null,
   "metadata": {},
   "outputs": [],
   "source": []
  },
  {
   "cell_type": "code",
   "execution_count": null,
   "metadata": {},
   "outputs": [],
   "source": []
  },
  {
   "cell_type": "code",
   "execution_count": null,
   "metadata": {},
   "outputs": [],
   "source": []
  },
  {
   "cell_type": "code",
   "execution_count": null,
   "metadata": {},
   "outputs": [],
   "source": []
  },
  {
   "cell_type": "code",
   "execution_count": null,
   "metadata": {},
   "outputs": [],
   "source": []
  },
  {
   "cell_type": "code",
   "execution_count": null,
   "metadata": {},
   "outputs": [],
   "source": []
  },
  {
   "cell_type": "code",
   "execution_count": null,
   "metadata": {},
   "outputs": [],
   "source": []
  },
  {
   "cell_type": "code",
   "execution_count": null,
   "metadata": {},
   "outputs": [],
   "source": []
  },
  {
   "cell_type": "code",
   "execution_count": null,
   "metadata": {},
   "outputs": [],
   "source": []
  },
  {
   "cell_type": "code",
   "execution_count": null,
   "metadata": {},
   "outputs": [],
   "source": []
  },
  {
   "cell_type": "code",
   "execution_count": null,
   "metadata": {},
   "outputs": [],
   "source": []
  }
 ],
 "metadata": {
  "kernelspec": {
   "name": "python385jvsc74a57bd0e42243f72fa198d5d7b499bc77ec7a85778f1261c8f7ca8e772194d316f1b31e",
   "display_name": "Python 3.8.5 64-bit ('base': conda)"
  },
  "language_info": {
   "codemirror_mode": {
    "name": "ipython",
    "version": 3
   },
   "file_extension": ".py",
   "mimetype": "text/x-python",
   "name": "python",
   "nbconvert_exporter": "python",
   "pygments_lexer": "ipython3",
   "version": "3.8.5"
  },
  "metadata": {
   "interpreter": {
    "hash": "e42243f72fa198d5d7b499bc77ec7a85778f1261c8f7ca8e772194d316f1b31e"
   }
  }
 },
 "nbformat": 4,
 "nbformat_minor": 5
}