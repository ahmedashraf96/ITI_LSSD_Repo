{
 "metadata": {
  "language_info": {
   "codemirror_mode": {
    "name": "ipython",
    "version": 3
   },
   "file_extension": ".py",
   "mimetype": "text/x-python",
   "name": "python",
   "nbconvert_exporter": "python",
   "pygments_lexer": "ipython3",
   "version": "3.8.5"
  },
  "orig_nbformat": 2,
  "kernelspec": {
   "name": "python385jvsc74a57bd0e42243f72fa198d5d7b499bc77ec7a85778f1261c8f7ca8e772194d316f1b31e",
   "display_name": "Python 3.8.5 64-bit ('base': conda)"
  },
  "metadata": {
   "interpreter": {
    "hash": "e42243f72fa198d5d7b499bc77ec7a85778f1261c8f7ca8e772194d316f1b31e"
   }
  }
 },
 "nbformat": 4,
 "nbformat_minor": 2,
 "cells": [
  {
   "source": [
    "# Task 1\n",
    "\n",
    "## Required \n",
    "\n",
    "Implement and apply the following filters on carkyo image:\n",
    "- Scharr.\n",
    "- Prewitt.\n",
    "- Roberts.\n",
    "\n",
    "## Criteria\n",
    "\n",
    "- Filter must be in both X-Dir and Y-Dir.\n",
    "- For each filter, 3 outputs are required (x, y, mag).\n",
    "- All filters must be implemented using cv2.Filter2D.\n",
    "\n",
    "## Grade\n",
    "10"
   ],
   "cell_type": "markdown",
   "metadata": {}
  },
  {
   "cell_type": "code",
   "execution_count": 4,
   "metadata": {},
   "outputs": [
    {
     "output_type": "execute_result",
     "data": {
      "text/plain": [
       "True"
      ]
     },
     "metadata": {},
     "execution_count": 4
    }
   ],
   "source": [
    "#Importing computer vision and numpy libraries\n",
    "import cv2 as cv\n",
    "import numpy as np\n",
    "\n",
    "#Getting the image to be processed\n",
    "carkyo_img = cv.imread(\"../02ImageProcessing/Files/001.jpg\")\n",
    "\n",
    "#Scharr filter kernel operator (x and y)\n",
    "Scharr_x = np.array([[-3, 0, 3],\n",
    "                     [-10, 0, 10],\n",
    "                     [-3, 0, 3]])\n",
    "\n",
    "Scharr_y = np.array([[-3, -10, -3],\n",
    "                     [0, 0, 0],\n",
    "                     [3, 10, 3]])\n",
    "\n",
    "#Prewitt filter kernel operator (x and y)\n",
    "Prewitt_x = np.array([[-1, 0, 1],\n",
    "                      [-1, 0, 1],\n",
    "                      [-1, 0, 1]])\n",
    "\n",
    "Prewitt_y = np.array([[-1, -1, -1],\n",
    "                      [0, 0, 0],\n",
    "                      [1, 1, 1]])\n",
    "\n",
    "#Roberts cross filter kernel operator (x and y)\n",
    "Roberts_x = np.array([[1, 0],\n",
    "                      [0, -1]])\n",
    "\n",
    "Roberts_y = np.array([[0, 1],\n",
    "                      [-1, 0]])\n",
    "\n",
    "\n",
    "#Getting 2D Scharr filter in x and y\n",
    "Scharr_filteredImg_x = cv.filter2D(carkyo_img, -1, Scharr_x)\n",
    "Scharr_filteredImg_y = cv.filter2D(carkyo_img, -1, Scharr_y)\n",
    "\n",
    "#Getting the Scharr magnitude of x and y \n",
    "Scharr_mag = cv.magnitude(np.float32(Scharr_filteredImg_x), np.float32(Scharr_filteredImg_y))\n",
    "\n",
    "#Concatinating images of x, y and magnitude vertically\n",
    "Scharr_img = cv.vconcat([Scharr_filteredImg_x, Scharr_filteredImg_y, np.uint8(Scharr_mag)])\n",
    "\n",
    "#Getting 2D Prewitt filter in x and y\n",
    "Prewitt_filteredImg_x = cv.filter2D(carkyo_img, -1, Prewitt_x)\n",
    "Prewitt_filteredImg_y = cv.filter2D(carkyo_img, -1, Prewitt_y)\n",
    "\n",
    "#Getting the Prewitt magnitude of x and y \n",
    "Prewitt_mag = cv.magnitude(np.float32(Prewitt_filteredImg_x), np.float32(Prewitt_filteredImg_y))\n",
    "\n",
    "#Concatinating images of x, y and magnitude vertically\n",
    "Prewitt_img = cv.vconcat([Prewitt_filteredImg_x, Prewitt_filteredImg_y, np.uint8(Prewitt_mag)])\n",
    "\n",
    "#Getting 2D Roberts filter in x and y\n",
    "Roberts_filteredImg_x = cv.filter2D(carkyo_img, -1, Roberts_x)\n",
    "Roberts_filteredImg_y = cv.filter2D(carkyo_img, -1, Roberts_y)\n",
    "\n",
    "#Getting the Roberts magnitude of x and y \n",
    "Roberts_mag = cv.magnitude(np.float32(Roberts_filteredImg_x), np.float32(Roberts_filteredImg_y))\n",
    "\n",
    "#Concatinating images of x, y and magnitude vertically\n",
    "Roberts_img = cv.vconcat([Roberts_filteredImg_x, Roberts_filteredImg_x, np.uint8(Roberts_mag)])\n",
    "\n",
    "#Creating Scharr, Prewitt and Roberts images\n",
    "cv.imwrite(\"Scharr_img.jpg\", Scharr_img)\n",
    "cv.imwrite(\"Prewitt_img.jpg\", Prewitt_img)\n",
    "cv.imwrite(\"Roberts_img.jpg\", Roberts_img)"
   ]
  }
 ]
}