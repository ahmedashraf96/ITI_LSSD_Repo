{
 "cells": [
  {
   "source": [
    "# Hough Circle Lab\n",
    "\n",
    "## Goal\n",
    "\n",
    "The goal of this lab is to detect as much circles as possible. The more you detect, the higher your grade.\n",
    "\n",
    "So, using the following image tune the parameters to get as much circles as you can for the following pictures:\n",
    "\n",
    "\n",
    "![Hough Circles](Files/Hough/circles.png)\n",
    "\n",
    "\n",
    "![Hough Circles](Files/Hough/Capture.PNG)\n",
    "\n",
    "\n",
    "## Grade\n",
    "\n",
    "Each circle you get right it's +1 and each false circle you get -1.\n",
    "\n"
   ],
   "cell_type": "markdown",
   "metadata": {}
  },
  {
   "cell_type": "code",
   "execution_count": 12,
   "metadata": {},
   "outputs": [],
   "source": [
    "import numpy as np\n",
    "import cv2\n",
    "\n",
    "def nothing(x):\n",
    "    pass\n",
    "\n",
    "\n",
    "img = cv2.imread('Files/Hough/Capture.PNG',0)\n",
    "\n",
    "cv2.namedWindow('output')\n",
    "cv2.createTrackbar('dp', 'output', 10, 100, nothing)\n",
    "cv2.createTrackbar('minDis', 'output', 10, 100, nothing)\n",
    "cv2.createTrackbar('param1', 'output', 10, 100, nothing)\n",
    "cv2.createTrackbar('param2', 'output', 10, 100, nothing)\n",
    "cv2.createTrackbar('minR', 'output', 10, 100, nothing)\n",
    "cv2.createTrackbar('maxR', 'output', 10, 100, nothing)\n",
    "\n",
    "while 1:\n",
    "    counter = 0\n",
    "    cimg = cv2.cvtColor(img, cv2.COLOR_GRAY2BGR)\n",
    "\n",
    "    dp = cv2.getTrackbarPos('dp', 'output')\n",
    "    minDis = cv2.getTrackbarPos('minDis', 'output')\n",
    "    param1 = cv2.getTrackbarPos('param1', 'output')\n",
    "    param2 = cv2.getTrackbarPos('param2', 'output')\n",
    "    minR = cv2.getTrackbarPos('minR', 'output')\n",
    "    maxR = cv2.getTrackbarPos('maxR', 'output')\n",
    "\n",
    "    if dp < 1:\n",
    "        dp = 1\n",
    "    if minDis < 1:\n",
    "        minDis = 1\n",
    "    if param1 < 1:\n",
    "        param1 = 1\n",
    "    if param2 < 1:\n",
    "        param2 = 1\n",
    "    if minR > maxR:\n",
    "        minR = maxR - 1\n",
    "    circles = cv2.HoughCircles(img, cv2.HOUGH_GRADIENT, dp, minDis,\n",
    "                            param1=param1,param2=param2,minRadius=minR,maxRadius=maxR)\n",
    "    if circles is not None:\n",
    "        circles = np.uint16(np.around(circles))\n",
    "\n",
    "        for i in circles[0,:]:\n",
    "            \n",
    "            counter += 1\n",
    "            \n",
    "            # draw the outer circle\n",
    "            cv2.circle(cimg,(i[0],i[1]),i[2],(0,255,0),2)\n",
    "            \n",
    "            # draw the center of the circle\n",
    "            cv2.putText(cimg,str(counter),(i[0],i[1]), cv2.FONT_HERSHEY_SIMPLEX, 0.3,(0,0,255),1,cv2.LINE_AA)\n",
    "\n",
    "\n",
    "    cv2.imshow('output', cimg)\n",
    "    \n",
    "    k = cv2.waitKey(1) & 0xFF\n",
    "    if k == 27:\n",
    "        break\n",
    "\n",
    "cv2.destroyAllWindows()"
   ]
  }
 ],
 "metadata": {
  "kernelspec": {
   "name": "python385jvsc74a57bd0e42243f72fa198d5d7b499bc77ec7a85778f1261c8f7ca8e772194d316f1b31e",
   "display_name": "Python 3.8.5 64-bit ('base': conda)"
  },
  "language_info": {
   "codemirror_mode": {
    "name": "ipython",
    "version": 3
   },
   "file_extension": ".py",
   "mimetype": "text/x-python",
   "name": "python",
   "nbconvert_exporter": "python",
   "pygments_lexer": "ipython3",
   "version": "3.8.5"
  },
  "metadata": {
   "interpreter": {
    "hash": "e42243f72fa198d5d7b499bc77ec7a85778f1261c8f7ca8e772194d316f1b31e"
   }
  }
 },
 "nbformat": 4,
 "nbformat_minor": 5
}