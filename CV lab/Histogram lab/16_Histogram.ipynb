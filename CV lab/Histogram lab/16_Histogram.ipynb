{
 "cells": [
  {
   "source": [
    "# Histogram Equalization\n",
    "\n",
    "In this lab you need to explore `CLAHE` and explain it.\n",
    "\n",
    "\n",
    "## Your task\n",
    "\n",
    "- What it 'CLAHE'?\n",
    "- How it is compared to what we disscused in the lecture?\n",
    "- Apply it to Grayscaled and Colored carkyo image and compare to our results.\n",
    "\n",
    "## Grade\n",
    "\n",
    "10"
   ],
   "cell_type": "markdown",
   "metadata": {}
  },
  {
   "source": [
    "CLAHE:\n",
    "    It is an appreviation for Contrast Limited Adaptive Histogram Equalization.\n",
    "\n",
    "CLAHE vs. Normal Equalization:\n",
    "    Instead of applying the equalization over the whole image histogram at once we can apply       equalization over small image tiles (tile is 8x8 block) so we will confine the histogram       in small areas which can give better results"
   ],
   "cell_type": "markdown",
   "metadata": {}
  },
  {
   "cell_type": "code",
   "execution_count": 15,
   "metadata": {},
   "outputs": [
    {
     "output_type": "execute_result",
     "data": {
      "text/plain": [
       "True"
      ]
     },
     "metadata": {},
     "execution_count": 15
    }
   ],
   "source": [
    "#Importing computer vision and numpy libraries\n",
    "import cv2 as cv\n",
    "import numpy as np\n",
    "\n",
    "#Getting image in grayscale and color\n",
    "img_grayScale = cv.imread(\"Files/001.jpg\", 0)\n",
    "img_colored = cv.imread(\"Files/001.jpg\")\n",
    "\n",
    "#Creating CLAHE with tile size of (8x8)\n",
    "clahe = cv.createCLAHE(clipLimit=2.0, tileGridSize=(8,8))\n",
    "\n",
    "#Applying CLAHE to grayscale and stacking the old grayscale with new one\n",
    "cl1 = clahe.apply(img_grayScale)\n",
    "res1 = np.hstack((img_grayScale, cl1))\n",
    "\n",
    "#Splitting the B, G and R components to equalize them\n",
    "b, g, r = cv.split(img_colored)\n",
    "\n",
    "#Equalizing B, G and R components\n",
    "b_equalized = clahe.apply(b)\n",
    "g_equalized = clahe.apply(g)\n",
    "r_equalized = clahe.apply(r)\n",
    "\n",
    "#Merging the equalized components to get the new image and stacking it with the new one\n",
    "cl2 = cv.merge([b_equalized, g_equalized, r_equalized])\n",
    "res2 = np.hstack((img_colored, cl2))\n",
    "\n",
    "#Writing the results to images to save them\n",
    "cv.imwrite(\"Gray_out.jpg\", res1)\n",
    "cv.imwrite(\"Colored_out.jpg\", res2)"
   ]
  },
  {
   "cell_type": "code",
   "execution_count": null,
   "metadata": {},
   "outputs": [],
   "source": []
  }
 ],
 "metadata": {
  "kernelspec": {
   "name": "python385jvsc74a57bd0e42243f72fa198d5d7b499bc77ec7a85778f1261c8f7ca8e772194d316f1b31e",
   "display_name": "Python 3.8.5 64-bit ('base': conda)"
  },
  "language_info": {
   "codemirror_mode": {
    "name": "ipython",
    "version": 3
   },
   "file_extension": ".py",
   "mimetype": "text/x-python",
   "name": "python",
   "nbconvert_exporter": "python",
   "pygments_lexer": "ipython3",
   "version": "3.8.5"
  },
  "metadata": {
   "interpreter": {
    "hash": "e42243f72fa198d5d7b499bc77ec7a85778f1261c8f7ca8e772194d316f1b31e"
   }
  }
 },
 "nbformat": 4,
 "nbformat_minor": 5
}