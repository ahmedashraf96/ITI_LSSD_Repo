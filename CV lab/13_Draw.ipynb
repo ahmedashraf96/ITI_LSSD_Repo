{
 "cells": [
  {
   "source": [
    "# Draw with you mouse !\n",
    "\n",
    "---\n",
    "\n",
    "## Task\n",
    "\n",
    "We need to get familier with using mouse events in opencv.\n",
    "\n",
    "## Criteria\n",
    "\n",
    "Use 5 diffrent mouse events `with mouse click in the center except for the text` to draw:\n",
    "- 10*10 green square.\n",
    "- 20*10 red rectangle.\n",
    "- 15 in raduis solid blue circle.\n",
    "- half-circle arch in yellow.\n",
    "- Write your name as a text in any color.\n",
    "\n",
    "---\n",
    "\n",
    "## Grade\n",
    "\n",
    "- 10\n",
    "  - 8 for the correct answer.\n",
    "  - 2 for finishing before the end of the lab.\n",
    "\n",
    "---\n"
   ],
   "cell_type": "markdown",
   "metadata": {}
  },
  {
   "cell_type": "code",
   "execution_count": 6,
   "metadata": {},
   "outputs": [],
   "source": [
    "#Importing opencv library\n",
    "import cv2 as cv\n",
    "\n",
    "#Importing numpy library\n",
    "import numpy as np"
   ]
  },
  {
   "cell_type": "code",
   "execution_count": 17,
   "metadata": {},
   "outputs": [],
   "source": [
    "#Mouse event callback function\n",
    "def mouse_events_callBack(event, x, y, flags, param):\n",
    "\n",
    "    #Checking the mouse events\n",
    "    if(event == cv.EVENT_LBUTTONDOWN):\n",
    "\n",
    "        #If the left button is down draw a square\n",
    "        cv.rectangle(img, (x, y), ((x+10),(y+10)), (0,255,0), -1)\n",
    "\n",
    "    elif(event == cv.EVENT_LBUTTONUP):\n",
    "\n",
    "        #If the left button is up draw a rectangle\n",
    "        cv.rectangle(img, (x, y), ((x+20),(y+10)), (0,0,255), -1)\n",
    "\n",
    "    elif(event == cv.EVENT_RBUTTONDOWN):\n",
    "\n",
    "        #If the right button is down draw a circle\n",
    "        cv.circle(img, (x, y), 15, (255, 0, 0), -1)\n",
    "\n",
    "    elif(event == cv.EVENT_RBUTTONUP):\n",
    "\n",
    "        #If the right button is up draw an arc\n",
    "        cv.ellipse(img, (x, y), (15, 15), 0, 180, 360, (0, 225, 255), 1) \n",
    "\n",
    "    elif(event == cv.EVENT_MOUSEWHEEL):\n",
    "\n",
    "        #If the mouse wheel is moved draw a text       \n",
    "        cv.putText(img, 'Ahmed', (x, y), cv.FONT_HERSHEY_SIMPLEX, 1, (255, 255, 255), 1, cv.LINE_AA)\n",
    "\n",
    "#Creating a black image\n",
    "img = np.zeros((512, 512, 3), np.uint8)\n",
    "\n",
    "#Creating a window named \"Image\"\n",
    "cv.namedWindow(\"Image\")\n",
    "\n",
    "#Setting the mouse callback function\n",
    "cv.setMouseCallback(\"Image\", mouse_events_callBack)\n",
    "\n",
    "#Looping over events\n",
    "while(1):\n",
    "\n",
    "    #Showing the image\n",
    "    cv.imshow(\"Image\", img)\n",
    "\n",
    "    #Checking every 10ms for a key, break if 'q' key is pressed\n",
    "    if( (cv.waitKey(10) & 0xFF) == ord('q')):\n",
    "\n",
    "        #Breaking the loop\n",
    "        break\n",
    "\n",
    "#Destroying the opened window\n",
    "cv.destroyAllWindows()\n"
   ]
  }
 ],
 "metadata": {
  "kernelspec": {
   "name": "python385jvsc74a57bd0e42243f72fa198d5d7b499bc77ec7a85778f1261c8f7ca8e772194d316f1b31e",
   "display_name": "Python 3.8.5 64-bit ('base': conda)"
  },
  "language_info": {
   "codemirror_mode": {
    "name": "ipython",
    "version": 3
   },
   "file_extension": ".py",
   "mimetype": "text/x-python",
   "name": "python",
   "nbconvert_exporter": "python",
   "pygments_lexer": "ipython3",
   "version": "3.8.5"
  },
  "metadata": {
   "interpreter": {
    "hash": "e42243f72fa198d5d7b499bc77ec7a85778f1261c8f7ca8e772194d316f1b31e"
   }
  }
 },
 "nbformat": 4,
 "nbformat_minor": 5
}