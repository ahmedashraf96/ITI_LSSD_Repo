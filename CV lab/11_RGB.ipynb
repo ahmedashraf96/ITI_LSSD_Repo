{
 "metadata": {
  "language_info": {
   "codemirror_mode": {
    "name": "ipython",
    "version": 3
   },
   "file_extension": ".py",
   "mimetype": "text/x-python",
   "name": "python",
   "nbconvert_exporter": "python",
   "pygments_lexer": "ipython3",
   "version": "3.8.5"
  },
  "orig_nbformat": 2,
  "kernelspec": {
   "name": "python385jvsc74a57bd0e42243f72fa198d5d7b499bc77ec7a85778f1261c8f7ca8e772194d316f1b31e",
   "display_name": "Python 3.8.5 64-bit ('base': conda)"
  },
  "metadata": {
   "interpreter": {
    "hash": "e42243f72fa198d5d7b499bc77ec7a85778f1261c8f7ca8e772194d316f1b31e"
   }
  }
 },
 "nbformat": 4,
 "nbformat_minor": 2,
 "cells": [
  {
   "source": [
    "# Playing around\n",
    "\n",
    "## Task\n",
    "\n",
    "Write a script to generate this random colors video for 10 seconds.\n",
    "\n",
    "## Output\n",
    "\n",
    "![this video](Files/11_output.gif)\n",
    "\n",
    "## Criteria\n",
    "- Must use opencv for saving the video.\n",
    "- Colors must be random in the three (R, G, and B) channels.\n",
    "- View video frames while the code is running.\n",
    "\n",
    "## Grade\n",
    "10"
   ],
   "cell_type": "markdown",
   "metadata": {}
  },
  {
   "cell_type": "code",
   "execution_count": 14,
   "metadata": {},
   "outputs": [],
   "source": [
    "#Importing numpy library\n",
    "import numpy as np\n",
    "\n",
    "#Importing computer vision library\n",
    "import cv2\n",
    "\n",
    "#Importing random library\n",
    "import random"
   ]
  },
  {
   "cell_type": "code",
   "execution_count": 15,
   "metadata": {},
   "outputs": [],
   "source": [
    "#Function used to generate a random colored frame in BGR order\n",
    "def random_color_frame(height, width ,rgb_frame = (0,0,0)):\n",
    "\n",
    "    #Creating frame array with height, width and depth\n",
    "    frame = np.zeros([height, width, 3], dtype=np.uint8)\n",
    "\n",
    "    #Creating color tuple \n",
    "    color = tuple(reversed(rgb_frame))\n",
    "\n",
    "    #Setting the color tuple to frame array\n",
    "    frame[:] = color\n",
    "    return frame\n"
   ]
  },
  {
   "cell_type": "code",
   "execution_count": 16,
   "metadata": {},
   "outputs": [],
   "source": [
    "#Creating video with 100 fps rate and with 640 in height and 480 in width\n",
    "vidOut = cv2.VideoWriter(\"Output.avi\", cv2.VideoWriter_fourcc(*'XVID'), 100, (640, 480))\n",
    "\n",
    "#Looping for 100 times with rate of 100ms to make 10 seconds video\n",
    "for i in range(100):\n",
    "\n",
    "    #Creating random r, g, b values\n",
    "    r_random_num = random.randint(0, 255)\n",
    "    g_random_num = random.randint(0, 255)\n",
    "    b_random_num = random.randint(0, 255)\n",
    "\n",
    "    #Getting video frame\n",
    "    frame = random_color_frame(640, 480, rgb_frame=(r_random_num, g_random_num, b_random_num))\n",
    "\n",
    "    #Showing video frame\n",
    "    cv2.imshow(\"Video\", frame)\n",
    "    \n",
    "    #Writing video frame to a video titled as 'output.avi'\n",
    "    vidOut.write(frame)\n",
    "\n",
    "    #Wait for a key to be pressed in 100ms and quit if 'q' is pressed\n",
    "    if ((cv2.waitKey(100) & 0xFF) == ord('q')):\n",
    "        \n",
    "        #Break from loop\n",
    "        break\n",
    "\n",
    "#Destroy opened windows\n",
    "cv2.destroyAllWindows()"
   ]
  }
 ]
}