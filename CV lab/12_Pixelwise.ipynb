{
 "metadata": {
  "language_info": {
   "codemirror_mode": {
    "name": "ipython",
    "version": 3
   },
   "file_extension": ".py",
   "mimetype": "text/x-python",
   "name": "python",
   "nbconvert_exporter": "python",
   "pygments_lexer": "ipython3",
   "version": "3.8.5"
  },
  "orig_nbformat": 2,
  "kernelspec": {
   "name": "python385jvsc74a57bd0e42243f72fa198d5d7b499bc77ec7a85778f1261c8f7ca8e772194d316f1b31e",
   "display_name": "Python 3.8.5 64-bit ('base': conda)"
  },
  "metadata": {
   "interpreter": {
    "hash": "e42243f72fa198d5d7b499bc77ec7a85778f1261c8f7ca8e772194d316f1b31e"
   }
  }
 },
 "nbformat": 4,
 "nbformat_minor": 2,
 "cells": [
  {
   "source": [
    "# Lighting again\n",
    "\n",
    "## Task\n",
    "\n",
    "In this lab we need to create a black image with one vertical and one horizontal lines that appear in random positions each frame with random color\n",
    "\n",
    "## Output should be like this\n",
    "![Video](Files/12_output.gif)\n",
    "\n",
    "## Criteria\n",
    "\n",
    "- Image width must be higher than height.\n",
    "- Image color must be black.\n",
    "- The 2 lines must:\n",
    "    - Have random color for each one.\n",
    "    - Appear independant of each other.\n",
    "\n",
    "## Grade\n",
    "10"
   ],
   "cell_type": "markdown",
   "metadata": {}
  },
  {
   "cell_type": "code",
   "execution_count": 45,
   "metadata": {},
   "outputs": [],
   "source": [
    "#Importing computer vision library\n",
    "import cv2 as cv\n",
    "\n",
    "#Importing numpy library\n",
    "import numpy as np\n",
    "\n",
    "#Importing random library\n",
    "import random"
   ]
  },
  {
   "cell_type": "code",
   "execution_count": 47,
   "metadata": {},
   "outputs": [],
   "source": [
    "#Creating an array of image with 300 of height, 600 in width and 3 in depth\n",
    "img = np.zeros([300, 600, 3], np.uint8)\n",
    "\n",
    "#Looping infinitely over image different frames\n",
    "while(True):\n",
    "\n",
    "    #Creating random numbers of x and y\n",
    "    x_rand = random.randint(0, 599)\n",
    "    y_rand = random.randint(0, 299)\n",
    "\n",
    "    #Creating random RGB colors\n",
    "    line_r_rand = random.randint(0, 255)\n",
    "    line_g_rand = random.randint(0, 255)\n",
    "    line_b_rand = random.randint(0, 255)\n",
    "\n",
    "    #Creating the horizontal line\n",
    "    cv.line(img, (x_rand, 0), (x_rand, 299), (line_b_rand, line_g_rand, line_r_rand), 1)\n",
    "\n",
    "    #Creating random RGB colors\n",
    "    line_r_rand = random.randint(0, 255)\n",
    "    line_g_rand = random.randint(0, 255)\n",
    "    line_b_rand = random.randint(0, 255)\n",
    "\n",
    "    #Creating the vertical line\n",
    "    cv.line(img, (0, y_rand), (599, y_rand), (line_b_rand, line_g_rand, line_r_rand), 1)\n",
    "\n",
    "    #Presenting the output image\n",
    "    cv.imshow(\"Image\", img)\n",
    "\n",
    "    #Restarting the image data to black\n",
    "    img[:] = (0, 0, 0)\n",
    "\n",
    "    #Waiting for key pressing 'q' with 250ms rate\n",
    "    if((cv.waitKey(250) & 0xFF) == ord('q')):        \n",
    "        \n",
    "        #Break from loop if 'q' key is pressed\n",
    "        break\n",
    "\n",
    "#Close any window\n",
    "cv.destroyAllWindows()\n"
   ]
  },
  {
   "cell_type": "code",
   "execution_count": null,
   "metadata": {},
   "outputs": [],
   "source": []
  }
 ]
}
